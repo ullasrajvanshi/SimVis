{
 "cells": [
  {
   "cell_type": "markdown",
   "metadata": {},
   "source": [
    "<h1><center>Simulating random variables</h1></center>\n",
    "\n",
    "\n",
    "<h1><center>CIE4604: Simulation and Visualisation</h1></center>\n",
    " \n",
    "#### Created:  November 2019 by Hans van der Marel\n",
    "\n",
    "<br>"
   ]
  },
  {
   "cell_type": "code",
   "execution_count": 4,
   "metadata": {},
   "outputs": [
    {
     "data": {
      "text/plain": [
       "'\\nExercises \"Inverse-transform method\" applied to exponential distribution\\n     F(x) = 1 - exp(-lambda * x)\\nInverse function is  x = Finv(u).\\n'"
      ]
     },
     "execution_count": 4,
     "metadata": {},
     "output_type": "execute_result"
    }
   ],
   "source": [
    "\"\"\"\n",
    "Exercises \"Inverse-transform method\" applied to exponential distribution\n",
    "     F(x) = 1 - exp(-lambda * x)\n",
    "Inverse function is  x = Finv(u).\n",
    "\"\"\""
   ]
  },
  {
   "cell_type": "code",
   "execution_count": 8,
   "metadata": {},
   "outputs": [],
   "source": [
    "# importing libraries\n",
    "import  numpy as np\n",
    "import matplotlib.pyplot as plt"
   ]
  },
  {
   "cell_type": "code",
   "execution_count": 9,
   "metadata": {},
   "outputs": [],
   "source": [
    "# First, generate Nsamp samples from U(0,1)\n",
    "N_samples = 10000\n",
    "u = np.random.rand(N_samples, 1)"
   ]
  },
  {
   "cell_type": "code",
   "execution_count": 10,
   "metadata": {},
   "outputs": [],
   "source": [
    "# Secondly, compute the inverse function x = Finv(u) fron the function u=F(x) using pen and paper. Please note that 1-u also has U(0,1) distribution.\n",
    "# Enter the function here\n",
    "l = 0.25  # lambda\n",
    "x = -(1 / l) * np.log(u)"
   ]
  },
  {
   "cell_type": "code",
   "execution_count": 12,
   "metadata": {},
   "outputs": [
    {
     "data": {
      "text/plain": [
       "Text(0.5, 1.0, 'Number of samples = 10000')"
      ]
     },
     "execution_count": 12,
     "metadata": {},
     "output_type": "execute_result"
    },
    {
     "data": {
      "image/png": "[encoded data removed]",
      "text/plain": [
       "<Figure size 864x360 with 1 Axes>"
      ]
     },
     "metadata": {
      "needs_background": "light"
     },
     "output_type": "display_data"
    }
   ],
   "source": [
    "# plot histograms and calculate mean and standard deviations based on simulated data\n",
    "# Since python doesn't have inbuilt histc function, we will create one using numpy.digitise\n",
    "def histc(X, bins):\n",
    "    map_to_bins = np.digitize(X, bins)\n",
    "    r = np.zeros(bins.shape)\n",
    "    for i in map_to_bins:\n",
    "        r[i - 1] += 1\n",
    "    return [r, map_to_bins]\n",
    "\n",
    "plt.figure(figsize=(12, 5))\n",
    "binsize = 2\n",
    "# plot histogram\n",
    "Nx = histc(x, np.arange(0, 50, binsize))\n",
    "plt.bar(np.arange(0, 50, binsize), Nx[0] / (N_samples * binsize))\n",
    "plt.xlabel('x')\n",
    "plt.ylabel('Density')\n",
    "plt.title('Number of samples = %i' %N_samples)"
   ]
  },
  {
   "cell_type": "code",
   "execution_count": 17,
   "metadata": {},
   "outputs": [
    {
     "name": "stdout",
     "output_type": "stream",
     "text": [
      "Mean is  4.026400522297191\n",
      "Variance is  15.86463297971702\n"
     ]
    }
   ],
   "source": [
    "# Computing and printing mean and variance\n",
    "print('Mean is ' ,x.mean())\n",
    "print('Variance is ', x.var())"
   ]
  }
 ],
 "metadata": {
  "kernelspec": {
   "display_name": "Python 3",
   "language": "python",
   "name": "python3"
  },
  "language_info": {
   "codemirror_mode": {
    "name": "ipython",
    "version": 3
   },
   "file_extension": ".py",
   "mimetype": "text/x-python",
   "name": "python",
   "nbconvert_exporter": "python",
   "pygments_lexer": "ipython3",
   "version": "3.7.4"
  }
 },
 "nbformat": 4,
 "nbformat_minor": 4
}
